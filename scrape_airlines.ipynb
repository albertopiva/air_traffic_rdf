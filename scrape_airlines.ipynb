{
 "cells": [
  {
   "cell_type": "markdown",
   "metadata": {},
   "source": [
    "# Import the airlines ICAO dataset from wikipedia"
   ]
  },
  {
   "cell_type": "markdown",
   "metadata": {},
   "source": [
    "To import data from web page we need two main library:\n",
    "- urllib that allow us to request the HTML source code\n",
    "- BeautifulSoup that is a useful HTML parser."
   ]
  },
  {
   "cell_type": "code",
   "execution_count": null,
   "metadata": {},
   "outputs": [],
   "source": [
    "from bs4 import BeautifulSoup\n",
    "import numpy as np\n",
    "from datetime import datetime\n",
    "import time\n",
    "import urllib.request"
   ]
  },
  {
   "cell_type": "markdown",
   "metadata": {},
   "source": [
    "#### Request the html code and pass it to Beautiful soup"
   ]
  },
  {
   "cell_type": "code",
   "execution_count": null,
   "metadata": {},
   "outputs": [],
   "source": [
    "fp = urllib.request.urlopen(\"https://en.wikipedia.org/wiki/List_of_airline_codes\")\n",
    "mybytes = fp.read()\n",
    "\n",
    "html = mybytes.decode(\"utf8\")\n",
    "fp.close()\n",
    "soup = BeautifulSoup(html)"
   ]
  },
  {
   "cell_type": "markdown",
   "metadata": {},
   "source": [
    "### Read data\n",
    "Find the table element in the html and then find all the rows (tr) inside.\n",
    "Data are organized in this way:\n",
    "- first row is the header, so we keep them in a separate list to use them later\n",
    "- all the remain rows are data."
   ]
  },
  {
   "cell_type": "code",
   "execution_count": null,
   "metadata": {},
   "outputs": [],
   "source": [
    "table = soup.find(\"table\", recursive=True)\n",
    "caption = table.find(\"caption\",recursive =True)\n",
    "\n",
    "header = []\n",
    "'''\n",
    "Order of tds\n",
    "IATA\n",
    "ICAO\n",
    "Airline\n",
    "Call sign\n",
    "Country/Region\n",
    "Comments'''\n",
    "#I will never use the comments, so I skip it\n",
    "\n",
    "tbody = table.find(\"tbody\",recursive=True)\n",
    "trs = tbody.find_all(\"tr\",recursive=True)\n",
    "i=0\n",
    "rows = 0\n",
    "print(\"Found \"+str(len(trs))+\" rows in the table\")\n",
    "data = np.empty(0)\n",
    "for tr in trs:\n",
    "    #first tr is the header\n",
    "    if i==0:\n",
    "        i+=1\n",
    "        ths = tr.find_all(\"th\",recursive=True)\n",
    "        for th in ths:\n",
    "            text = th.getText().replace(\"\\n\",\"\")\n",
    "            header.append(text)\n",
    "    else:\n",
    "        tds = tr.find_all(\"td\",recursive=True)\n",
    "        line = []\n",
    "        if len(tds) < 5:\n",
    "            #last stupid row with no element..\n",
    "            break\n",
    "        for td in tds:\n",
    "            text = td.getText().replace(\"\\n\",\"\").replace(\",\",\";\")\n",
    "            line.append(text)\n",
    "        data = np.append(data,line[0:5])\n",
    "        rows+=1\n",
    "        data = data.reshape(rows,5)\n",
    "        #print(tr.getText())\n",
    "header = header[0:5]"
   ]
  },
  {
   "cell_type": "markdown",
   "metadata": {},
   "source": [
    "### Other Codes\n",
    "After the table there are a lot of other codes related to airlines companies, so we also look at them.<br>\n",
    "Since all the informations are inside some paragraph, we found a textual pattern to retrieve them. The pattern is:<br>\n",
    "|-<br>\n",
    "| IATA CODE<br>\n",
    "| ICAO CODE<br>\n",
    "| Airline<br>\n",
    "| Callsign<br>\n",
    "| Country/Region<br>\n",
    "| Comment"
   ]
  },
  {
   "cell_type": "code",
   "execution_count": null,
   "metadata": {},
   "outputs": [],
   "source": [
    "p = soup.find_all(\"p\")\n",
    "for l in p:\n",
    "    if \"|\" not in l.getText():\n",
    "        continue\n",
    "    for s in l.getText().split(\"|-\"):\n",
    "        spl = s.replace(\"\\n\",\"\").replace(\",\",\" \").split(\"|\")\n",
    "        if len(spl) == 7:\n",
    "            data = np.append(data,spl[1:6])\n",
    "            rows+=1\n",
    "            data = data.reshape(rows,5)"
   ]
  },
  {
   "cell_type": "markdown",
   "metadata": {},
   "source": [
    "Export the data into a CSV file"
   ]
  },
  {
   "cell_type": "code",
   "execution_count": null,
   "metadata": {},
   "outputs": [],
   "source": [
    "head = ','.join(header)\n",
    "np.savetxt('airtrafficDB/data/airline.csv', data, header=head, fmt=['%s','%s','%s','%s','%s'],delimiter=',')"
   ]
  },
  {
   "cell_type": "code",
   "execution_count": null,
   "metadata": {},
   "outputs": [],
   "source": []
  }
 ],
 "metadata": {
  "kernelspec": {
   "display_name": "Python 3 (ipykernel)",
   "language": "python",
   "name": "python3"
  },
  "language_info": {
   "codemirror_mode": {
    "name": "ipython",
    "version": 3
   },
   "file_extension": ".py",
   "mimetype": "text/x-python",
   "name": "python",
   "nbconvert_exporter": "python",
   "pygments_lexer": "ipython3",
   "version": "3.9.7"
  }
 },
 "nbformat": 4,
 "nbformat_minor": 4
}
